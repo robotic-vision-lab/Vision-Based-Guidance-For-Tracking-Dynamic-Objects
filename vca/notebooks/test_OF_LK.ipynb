{
 "metadata": {
  "language_info": {
   "codemirror_mode": {
    "name": "ipython",
    "version": 3
   },
   "file_extension": ".py",
   "mimetype": "text/x-python",
   "name": "python",
   "nbconvert_exporter": "python",
   "pygments_lexer": "ipython3",
   "version": "3.7.6-final"
  },
  "orig_nbformat": 2,
  "kernelspec": {
   "name": "python37664bitpy37conda825fec29454c46a5a75a20dc2e975f76",
   "display_name": "Python 3.7.6 64-bit ('py37': conda)"
  }
 },
 "nbformat": 4,
 "nbformat_minor": 2,
 "cells": [
  {
   "cell_type": "code",
   "execution_count": 1,
   "metadata": {
    "tags": []
   },
   "outputs": [],
   "source": [
    "# note:\n",
    "# -----\n",
    "# These jupyter notebooks are located in vca\\notebooks\\\n",
    "# All code files are located in vca\\\n",
    "\n",
    "import os\n",
    "import sys\n",
    "\n",
    "# add vca\\ to sys.path\n",
    "cur_path = os.path.abspath(os.path.join('..'))\n",
    "if cur_path not in sys.path:\n",
    "    sys.path.append(cur_path)"
   ]
  },
  {
   "cell_type": "code",
   "execution_count": 6,
   "metadata": {
    "tags": []
   },
   "outputs": [
    {
     "output_type": "stream",
     "name": "stdout",
     "text": "Volume in drive C is OS\n Volume Serial Number is CEED-E3F8\n\n Directory of c:\\MY DATA\\UTA\\RVL Projects\\Vision-Based Obstacle Avoidance for UAVs\\Code\\Python\\VCA\\vca\\notebooks\n\n08/24/2020  02:37 AM    <DIR>          .\n08/24/2020  02:37 AM    <DIR>          ..\n08/23/2020  07:14 PM                 0 __init__.py\n08/24/2020  02:49 AM                 0 debug.log\n08/24/2020  02:51 AM             5,805 test_OF_LK.ipynb\n08/22/2020  01:06 PM            14,068 test_optical_flow.ipynb\n               4 File(s)         19,873 bytes\n               2 Dir(s)  166,637,150,208 bytes free\n"
    }
   ],
   "source": [
    "import cv2 as cv\n",
    "import numpy as np\n",
    "# print(f'__file__={__file__} | __name__={__name__} | __package__={__package__}')\n",
    "# %cd ..\n",
    "%ls\n",
    "from utils import *\n",
    "# from utils import img_utils\n",
    "# from utils.window_utils import *\n",
    "# from utils.optical_flow_utils import *\n",
    "# from utils.data_synth_utils import generate_synth_data"
   ]
  },
  {
   "cell_type": "code",
   "execution_count": 7,
   "metadata": {},
   "outputs": [],
   "source": [
    "## prepare the image paths\n",
    "# create dummy test images \n",
    "height = 20\n",
    "width = 20\n",
    "data_path = generate_synth_data( img_size=(height, width), \n",
    "                                 path='../../', \n",
    "                                 num_images=4, \n",
    "                                 folder_name='./datasets/synth_data' )"
   ]
  },
  {
   "cell_type": "code",
   "execution_count": null,
   "metadata": {},
   "outputs": [],
   "source": [
    "# gather the path params needed in a dictionary\n",
    "synth_path_params = {'path':data_path, 'image_type':'jpg'}\n",
    "dimetrodon_path_params = {'path':'./datasets/Dimetrodon', 'image_type':'png'}\n",
    "rubber_path_params = {'path':'./datasets/RubberWhale', 'image_type':'png'}\n",
    "car_path_params = {'path':'C:\\MY DATA\\Code Valley\\MATLAB\\determining-optical-flow-master\\horn-schunck', 'image_type':'png'}\n",
    "venus_path_params = {'path':'./datasets/Venus', 'image_type':'png'}\n",
    "\n",
    "path_params = { 'synth':synth_path_params, \n",
    "                'dimetrodon':dimetrodon_path_params, \n",
    "                'rubber':rubber_path_params, \n",
    "                'car':car_path_params,\n",
    "                'venus':venus_path_params }"
   ]
  },
  {
   "cell_type": "code",
   "execution_count": null,
   "metadata": {},
   "outputs": [],
   "source": [
    "## choose an image path\n",
    "img_paths = get_image_paths(**path_params['venus'])\n",
    "\n",
    "# read and preprocess\n",
    "img_1 = preprocess_image(cv.imread(img_paths[0]))\n",
    "img_2 = preprocess_image(cv.imread(img_paths[1]))"
   ]
  },
  {
   "cell_type": "code",
   "execution_count": null,
   "metadata": {},
   "outputs": [],
   "source": [
    "# display img_1\n",
    "# %matplotlib inline\n",
    "import matplotlib.pyplot as plt\n",
    "plt.imshow(convert_BGR_to_RGB(img_1))\n",
    "plt.show()\n",
    "plt.imshow(convert_BGR_to_RGB(img_2))\n",
    "plt.show()\n"
   ]
  },
  {
   "cell_type": "code",
   "execution_count": null,
   "metadata": {},
   "outputs": [],
   "source": [
    "# set params for ShiTomasi corner detection\n",
    "feature_params = dict( maxCorners = 100,\n",
    "                       qualityLevel = 0.3,\n",
    "                       minDistance = 7,\n",
    "                       blockSize = 7 )\n",
    "\n",
    "# set parameters for lucas kanade optical flow\n",
    "lk_params = dict( winSize  = (15,15),\n",
    "                  maxLevel = 2,\n",
    "                  criteria = (cv.TERM_CRITERIA_EPS | cv.TERM_CRITERIA_COUNT, 10, 0.03) )"
   ]
  },
  {
   "cell_type": "code",
   "execution_count": null,
   "metadata": {
    "tags": []
   },
   "outputs": [],
   "source": [
    "# Create some random colors\n",
    "color = np.random.randint(0,255,(100,3))\n",
    "\n",
    "# Take first frame and find corners in it\n",
    "img_gray_1 = convert_to_grayscale(img_1)\n",
    "p1 = cv.goodFeaturesToTrack(img_gray_1, mask = None, **feature_params)\n",
    "\n",
    "# l_print(p1)\n",
    "\n",
    "# Create a mask image for drawing purposes\n",
    "mask = np.zeros_like(img_1)"
   ]
  },
  {
   "cell_type": "code",
   "execution_count": null,
   "metadata": {},
   "outputs": [],
   "source": [
    "img_gray_2 = convert_to_grayscale(img_2)\n",
    "\n",
    "# calculate optical flow\n",
    "p2, st, err = cv.calcOpticalFlowPyrLK( prevImg=img_gray_1, \n",
    "                                       nextImg=img_gray_2, \n",
    "                                       prevPts=p0, \n",
    "                                       nextPts=None,\n",
    "                                       **lk_params )\n",
    "\n",
    "# select good points\n",
    "good_1 = p1[st==1]\n",
    "good_2 = p2[st==1]\n",
    "\n"
   ]
  },
  {
   "cell_type": "code",
   "execution_count": null,
   "metadata": {},
   "outputs": [],
   "source": [
    "# draw the tracks\n",
    "for i, (new, old) in enumerate(zip(good_2, good_1)):\n",
    "    a,b = new.ravel()\n",
    "    c,d = old.ravel()\n",
    "    mask = cv.line(mask, (a,b), (c,d), color[i].tolist(), 2) \n",
    "    frame = cv.circle(img_2, (a,b), 5, color[i].tolist(), -1)\n",
    "img = cv.add(frame, mask)\n",
    "\n",
    "cv.imshow('frame', img)\n",
    "k = cv.waitKey(0)\n",
    "\n"
   ]
  }
 ]
}