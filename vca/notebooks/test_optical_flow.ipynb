{
 "metadata": {
  "language_info": {
   "codemirror_mode": {
    "name": "ipython",
    "version": 3
   },
   "file_extension": ".py",
   "mimetype": "text/x-python",
   "name": "python",
   "nbconvert_exporter": "python",
   "pygments_lexer": "ipython3",
   "version": "3.7.6-final"
  },
  "orig_nbformat": 2,
  "kernelspec": {
   "name": "python37664bitpy37conda825fec29454c46a5a75a20dc2e975f76",
   "display_name": "Python 3.7.6 64-bit ('py37': conda)"
  }
 },
 "nbformat": 4,
 "nbformat_minor": 2,
 "cells": [
  {
   "cell_type": "code",
   "execution_count": null,
   "metadata": {},
   "outputs": [],
   "source": [
    "# note:\n",
    "# -----\n",
    "# These jupyter notebooks are located in vca\\notebooks\\\n",
    "# All code files are located in vca\\\n",
    "\n",
    "import os\n",
    "import sys\n",
    "\n",
    "# add vca\\ to sys.path\n",
    "cur_path = os.path.abspath(os.path.join('..'))\n",
    "if cur_path not in sys.path:\n",
    "    sys.path.append(cur_path)"
   ]
  },
  {
   "cell_type": "code",
   "execution_count": null,
   "metadata": {},
   "outputs": [],
   "source": [
    "import cv2 as cv\n",
    "import numpy as np\n",
    "import matplotlib.pyplot as plt\n",
    "\n",
    "from utils import *\n",
    "# from utils.window_utils import *"
   ]
  },
  {
   "cell_type": "code",
   "execution_count": null,
   "metadata": {},
   "outputs": [],
   "source": [
    "# set the path of dataset\n",
    "DATASET_PATH = \"C:\\MY DATA\\Code Valley\\MATLAB\\determining-optical-flow-master\\horn-schunck\""
   ]
  },
  {
   "cell_type": "code",
   "execution_count": null,
   "metadata": {},
   "outputs": [],
   "source": [
    "def compute_gradients(img_1, img_2):\n",
    "    \"\"\" returns gradients of image I(x,y,t) along x, y, t as tuple \"\"\"\n",
    "    I_x = compute_horizontal_gradient(img_1, img_2)\n",
    "    I_y = compute_vertical_gradient(img_1, img_2)\n",
    "    I_t = compute_temporal_gradient(img_1, img_2)\n",
    "\n",
    "    return (I_x, I_y, I_t)\n",
    "\n",
    "def compute_horizontal_gradient(img_1, img_2):\n",
    "    \"\"\" returns gradient of the image (I_x) along the horizontal direction \"\"\"\n",
    "    kernel_x = 0.25 * np.array([[-1, 1], [-1, 1]]).astype('float32')\n",
    "\n",
    "    d_dx_img_1 = cv.filter2D(img_1.astype('float32'), -1, kernel_x)\n",
    "    d_dx_img_2 = cv.filter2D(img_2.astype('float32'), -1, kernel_x)\n",
    "    d_dx_img = d_dx_img_1 + d_dx_img_2\n",
    "    # d_dx_img = normalize_to_unit_range(d_dx_img)\n",
    "\n",
    "    return d_dx_img/2\n",
    "\n",
    "def compute_vertical_gradient(img_1, img_2):\n",
    "    \"\"\" returns gradient of the image (I_y) along the vertical direction \"\"\"\n",
    "    kernel_y = 0.25 * np.array([[-1, -1], [1, 1]]).astype('float32')\n",
    "\n",
    "    d_dy_img_1 = cv.filter2D(img_1.astype('float32'), -1, kernel_y)\n",
    "    d_dy_img_2 = cv.filter2D(img_2.astype('float32'), -1, kernel_y)\n",
    "    d_dy_img = d_dy_img_1 + d_dy_img_2\n",
    "    # d_dy_img = normalize_to_unit_range(d_dy_img)\n",
    "\n",
    "    return d_dy_img/2\n",
    "\n",
    "def compute_temporal_gradient(img_1, img_2):\n",
    "    \"\"\" returns temporal gradient between two frames \"\"\"\n",
    "    kernel_t = 0.25 * np.array([[1, 1], [1, 1]]).astype('float32')\n",
    "\n",
    "    d_dt_img_1 = cv.filter2D(img_1.astype('float32'), -1, kernel_t)\n",
    "    d_dt_img_2 = cv.filter2D(img_2.astype('float32'), -1, kernel_t)\n",
    "    d_dt_img = d_dt_img_2 - d_dt_img_1\n",
    "    # d_dt_img = normalize_to_unit_range(d_dt_img)\n",
    "\n",
    "    return d_dt_img/2\n",
    "\n",
    "def normalize_to_unit_range(img):\n",
    "    \"\"\" takes in an image and normalizes to range 0.0 to 1.0  \"\"\"\n",
    "    return cv.normalize(img.astype('float32'), None, 0.0, 1.0, cv.NORM_MINMAX)\n"
   ]
  },
  {
   "cell_type": "code",
   "execution_count": null,
   "metadata": {},
   "outputs": [],
   "source": [
    "def draw_optical_flow(u, v):\n",
    "    \"\"\" Takes in u and v components of optical flow and draws color encoded image. \n",
    "        First an HSV image is built using polar coordinates of the flow.\n",
    "        \n",
    "        note:\n",
    "        OpenCV uses HSV ranges between (0-180, 0-255, 0-255).\n",
    "\n",
    "        Then, its converted to RGB and displayed.\n",
    "    \"\"\"\n",
    "    # create tensor with all zeros of frame shape\n",
    "    hsv = np.zeros((*get_image_shape(u), 3), dtype=np.uint8)\n",
    "\n",
    "    # get polar representation of the optical flow components\n",
    "    magnitude, angle = cv.cartToPolar(u, v)\n",
    "    # print(f'mag shape{magnitude.shape} dtype {magnitude.dtype}, angle shape {angle.shape} dtype {angle.dtype}')\n",
    "    # l_print(f'\\nmagnitude')\n",
    "    # l_print(magnitude)\n",
    "    # l_print(f'\\nangle')\n",
    "    # l_print(angle)\n",
    "\n",
    "    # set saturation to maximum\n",
    "    hsv[..., 1] = 255\n",
    "    # print(f'hsv shape {hsv.shape}, dtype {hsv.dtype}')\n",
    "\n",
    "    # set image hue and value\n",
    "    hsv[..., 0] = angle * 180 / np.pi \n",
    "    # print(f'hsv shape {hsv.shape}, dtype {hsv.dtype}, angle max {np.max(hsv[...,0])} min {np.min(hsv[...,0])}')\n",
    "    hsv[..., 2] = cv.normalize(magnitude, None, 0, 255, cv.NORM_MINMAX)\n",
    "    # print(f'hsv shape {hsv.shape}, dtype {hsv.dtype}, mag max {np.max(hsv[...,2])} min {np.min(hsv[...,2])}')\n",
    "    # l_print('\\nPrinting HSV')\n",
    "    # l_print(hsv)\n",
    "    # convert HSV to RGB (BGR in opencv)\n",
    "    color_img = cv.cvtColor(hsv, cv.COLOR_HSV2BGR)\n",
    "\n",
    "    # show flow\n",
    "    # window_name = 'Optical flow'\n",
    "    # cv.imwrite('out_img_OF.jpg', color_img)\n",
    "    # cv.imshow(window_name, color_img)\n",
    "    # cv.waitKey(0)\n",
    "    # cv.destroyWindow(window_name) \n",
    "    # plt.imshow(color_img)\n",
    "    return color_img\n"
   ]
  },
  {
   "cell_type": "code",
   "execution_count": null,
   "metadata": {},
   "outputs": [],
   "source": [
    "# get image paths\n",
    "path_list = get_image_paths(DATASET_PATH)\n",
    "\n",
    "# read images\n",
    "img_1 = cv.imread(path_list[1])\n",
    "img_2 = cv.imread(path_list[2])\n",
    "\n",
    "# convert to grayscale\n",
    "img_gray_1 = convert_to_grayscale(img_1)\n",
    "img_gray_2 = convert_to_grayscale(img_2)\n",
    "\n",
    "# smooth(blur) both frames\n",
    "img_blur_1 = cv.GaussianBlur(img_gray_1, (3,3), 0)\n",
    "img_blur_2 = cv.GaussianBlur(img_gray_2, (3,3), 0)\n",
    "\n",
    "# normalize (equivalent of im2double in MATLAB)\n",
    "img_norm_1 = normalize_to_unit_range(img_1)\n",
    "img_norm_2 = normalize_to_unit_range(img_2)\n"
   ]
  },
  {
   "cell_type": "code",
   "execution_count": null,
   "metadata": {
    "tags": []
   },
   "outputs": [],
   "source": [
    "from math import sin, cos\n",
    "from synth_data import generate_synth_data\n",
    "\n",
    "# create dummy test images \n",
    "height = 20\n",
    "width = 20\n",
    "data_path = generate_synth_data(img_size=(height,width), \n",
    "                               path='../../datasets', \n",
    "                               num_images=4, \n",
    "                               folder_name='synth_data')\n",
    "# list out the image path\n",
    "img_paths = get_image_paths(path=data_path, image_type='jpg')\n",
    "\n",
    "img_1 = cv.imread(img_paths[0])\n",
    "img_2 = cv.imread(img_paths[1])\n",
    "\n",
    "# plt.imshow(img_1,  cmap='gray')\n",
    "plt.imshow(img_2, cmap='gray')\n",
    "\n",
    "print(f'img_1 shape {img_1.shape}')\n",
    "# convert to grayscale\n",
    "img_gray_1 = convert_to_grayscale(img_1)\n",
    "img_gray_2 = convert_to_grayscale(img_2)\n",
    "\n",
    "# apply blurring and normalize\n",
    "img_blur_1 = cv.GaussianBlur(img_gray_1, (3,3), 0)\n",
    "img_blur_2 = cv.GaussianBlur(img_gray_2, (3,3), 0)\n",
    "\n",
    "# normalize (equivalent of im2double in MATLAB)\n",
    "img_norm_1 = normalize_to_unit_range(img_blur_1)\n",
    "img_norm_2 = normalize_to_unit_range(img_blur_2)\n",
    "\n",
    "plt.imshow(img_norm_1, cmap='gray')"
   ]
  },
  {
   "cell_type": "code",
   "execution_count": null,
   "metadata": {},
   "outputs": [],
   "source": [
    "# compute gradients along x,y,t\n",
    "I_x, I_y, I_t = compute_gradients(img_norm_1, img_norm_2)"
   ]
  },
  {
   "cell_type": "code",
   "execution_count": null,
   "metadata": {},
   "outputs": [],
   "source": [
    "# display the gradients\n",
    "# plt.imshow('x', I_x)\n",
    "# plt.imshow('y', I_y)\n",
    "# plt.imshow('t', I_t)\n",
    "plt.imshow(I_x)\n",
    "plt.imshow(I_y)\n",
    "plt.imshow(I_t, cmap='gray')"
   ]
  },
  {
   "cell_type": "code",
   "execution_count": null,
   "metadata": {},
   "outputs": [],
   "source": [
    "# initialize alpha and number of iterations (higher alpha enforces smoother flow field)\n",
    "alpha = 0.1\n",
    "num_iter = 512\n",
    "\n",
    "# pre-compute smoothness error term\n",
    "e_smooth = 4*alpha**2 + I_x**2 + I_y**2               # note operations are element-wise\n",
    "plt.imshow(normalize_to_unit_range(e_smooth), cmap='gray')\n"
   ]
  },
  {
   "cell_type": "code",
   "execution_count": null,
   "metadata": {},
   "outputs": [],
   "source": [
    "# initialize velocity field components u and v with zeros  \n",
    "u = np.zeros_like(img_norm_1)\n",
    "v = np.zeros_like(img_norm_1)\n",
    "laplacian_kernel = get_laplacian_kernel()\n",
    "avg_ker = get_average_kernel()"
   ]
  },
  {
   "cell_type": "code",
   "execution_count": null,
   "metadata": {},
   "outputs": [],
   "source": [
    "# perform iterative solution\n",
    "for i in range(num_iter):\n",
    "    # compute average of previous velocity estimates\n",
    "    u_avg = cv.filter2D(u, -1, avg_ker)\n",
    "    v_avg = cv.filter2D(v, -1, avg_ker)\n",
    "\n",
    "    # compute the brightness error term\n",
    "    e_bright = I_x * u_avg + I_y * v_avg + I_t      # note operations are element-wise\n",
    "\n",
    "    # compute new velocities from estimated derivatives\n",
    "    e_quotient = e_bright / e_smooth\n",
    "    u = u_avg - I_x * e_quotient\n",
    "    v = v_avg - I_y * e_quotient\n",
    "\n",
    "    # # normalize u, v\n",
    "    # u = cv.normalize(u.astype('float32'), None, -0.5, 0.5, cv.NORM_MINMAX) #normalize_to_unit_range(u)\n",
    "    # v = cv.normalize(v.astype('float32'), None, -0.5, 0.5, cv.NORM_MINMAX) #normalize_to_unit_range(v)"
   ]
  },
  {
   "cell_type": "code",
   "execution_count": null,
   "metadata": {
    "tags": []
   },
   "outputs": [],
   "source": [
    "print(f'u shape before norm {u.shape} min and max {np.min(u)} {np.max(u)}')\n",
    "u = normalize_to_unit_range(u)\n",
    "v = normalize_to_unit_range(v)\n",
    "plt.imshow(u, cmap='gray')\n",
    "plt.imshow(v, cmap='gray')\n",
    "\n",
    "hsv = np.zeros((*get_image_shape(u), 3), dtype=np.uint8)\n",
    "print(f'u shape {u.shape}')\n",
    "print(f'hsv initial shape {hsv.shape}')\n",
    "magnitude, angle = cv.cartToPolar(u, v)\n",
    "hsv[..., 1] = 255\n",
    "hsv[..., 0] = angle * 180 / np.pi \n",
    "hsv[..., 2] = cv.normalize(magnitude, None, 0, 255, cv.NORM_MINMAX)\n",
    "# print(hsv)\n",
    "\n",
    "# flow = cv.calcOpticalFlowFarneback(img_norm_1,img_norm_2, None, 0.5, 3, 15, 3, 5, 1.2, 0)\n",
    "# u = flow[..., 0]\n",
    "# v = flow[..., 1]\n",
    "# img = cv.cvtColor(draw_optical_flow(u, v), cv.COLOR_BGR2RGB)\n",
    "# plt.imshow(np.array(img))\n",
    "# cv.waitKey(0)\n",
    "# cv.destroyAllWindows()"
   ]
  },
  {
   "cell_type": "code",
   "execution_count": null,
   "metadata": {},
   "outputs": [],
   "source": [
    "img = cv.cvtColor(draw_optical_flow(u, v), cv.COLOR_BGR2RGB)\n",
    "plt.imshow(np.array(img))"
   ]
  },
  {
   "cell_type": "code",
   "execution_count": null,
   "metadata": {},
   "outputs": [],
   "source": [
    "# testing inserting text in images\n",
    "# create a blank image\n",
    "img_text = np.ones(shape=(480, 640), dtype=np.uint8) * 255\n",
    "img_text = cv.putText(img=img_text, text=\"OpenCV putText() test.\", org=(10,50),fontFace=cv.FONT_HERSHEY_PLAIN, fontScale=3, color=(16,16,16), thickness=2, lineType=cv.LINE_8)\n",
    "img_text = cv.cvtColor(img_text, cv.COLOR_BGR2RGB)\n",
    "plt.imshow(img_text)"
   ]
  },
  {
   "cell_type": "code",
   "execution_count": null,
   "metadata": {},
   "outputs": [],
   "source": [
    "import cv2 as cv\n",
    "import matplotlib.pyplot as plt\n",
    "from horn_schunk import get_color_scheme\n",
    "\n",
    "img, u, v = get_color_scheme((128,128))\n",
    "cv.imwrite('out_img_color_scheme_128.jpg', img)\n",
    "\n",
    "img, u, v = get_color_scheme((256,256))\n",
    "cv.imwrite('out_img_color_scheme_256.jpg', img)\n",
    "\n",
    "plt.imshow(v, cmap='gray')\n",
    "plt.show()"
   ]
  }
 ]
}