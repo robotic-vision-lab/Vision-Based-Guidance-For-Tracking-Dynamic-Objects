{
 "metadata": {
  "language_info": {
   "codemirror_mode": {
    "name": "ipython",
    "version": 3
   },
   "file_extension": ".py",
   "mimetype": "text/x-python",
   "name": "python",
   "nbconvert_exporter": "python",
   "pygments_lexer": "ipython3",
   "version": "3.7.6-final"
  },
  "orig_nbformat": 2,
  "kernelspec": {
   "name": "python37664bitpy37conda825fec29454c46a5a75a20dc2e975f76",
   "display_name": "Python 3.7.6 64-bit ('py37': conda)"
  }
 },
 "nbformat": 4,
 "nbformat_minor": 2,
 "cells": [
  {
   "cell_type": "code",
   "execution_count": null,
   "metadata": {},
   "outputs": [],
   "source": [
    "# note:\n",
    "# -----\n",
    "# These jupyter notebooks are located in vca\\notebooks\\\n",
    "# All code files are located in vca\\\n",
    "\n",
    "import os\n",
    "import sys\n",
    "\n",
    "# add vca\\ to sys.path\n",
    "cur_path = os.path.abspath(os.path.join('..'))\n",
    "if cur_path not in sys.path:\n",
    "    sys.path.append(cur_path)"
   ]
  },
  {
   "cell_type": "code",
   "execution_count": null,
   "metadata": {},
   "outputs": [],
   "source": [
    "import cv2 as cv\n",
    "import numpy as np\n",
    "import matplotlib.pyplot as plt\n",
    "\n",
    "from utils import *\n",
    "from algorithms.optical_flow import compute_optical_flow_HS"
   ]
  },
  {
   "cell_type": "code",
   "execution_count": null,
   "metadata": {},
   "outputs": [],
   "source": [
    "# create dummy test images \n",
    "height = 20\n",
    "width = 20\n",
    "\n",
    "data_path = generate_synth_data( img_size=(height,width), \n",
    "                                 path='../../datasets', \n",
    "                                 num_images=4, \n",
    "                                 folder_name='synth_data' )"
   ]
  },
  {
   "cell_type": "code",
   "execution_count": null,
   "metadata": {},
   "outputs": [],
   "source": [
    "# set some path params, holding image path and types\n",
    "synth_path_params = {'path':data_path, 'image_type':'jpg'}\n",
    "dimetrodon_path_params = {'path':'../../datasets/Dimetrodon', 'image_type':'png'}\n",
    "rubber_path_params = {'path':'../../datasets/RubberWhale', 'image_type':'png'}\n",
    "car_path_params = {'path':'C:\\MY DATA\\Code Valley\\MATLAB\\determining-optical-flow-master\\horn-schunck', 'image_type':'png'}\n",
    "\n",
    "# keep a dictionary of path parameters\n",
    "path_params = {'synth':synth_path_params, \n",
    "                'dimetrodon':dimetrodon_path_params, \n",
    "                'rubber':rubber_path_params, \n",
    "                'car':car_path_params}\n",
    "\n",
    "# list out the image path\n",
    "img_paths = get_image_paths(**path_params['car'])"
   ]
  },
  {
   "cell_type": "code",
   "execution_count": null,
   "metadata": {},
   "outputs": [],
   "source": [
    "# read and preprocess\n",
    "img_1 = preprocess_image(cv.imread(img_paths[0]))\n",
    "img_2 = preprocess_image(cv.imread(img_paths[1]))\n",
    "\n",
    "# display\n",
    "DISPLAY_PREPROCESSED = True\n",
    "if DISPLAY_PREPROCESSED:\n",
    "    plt.imshow(img_1, cmap='gray')\n",
    "    plt.show()\n",
    "    plt.imshow(img_2, cmap='gray')\n",
    "    plt.show()"
   ]
  },
  {
   "cell_type": "code",
   "execution_count": null,
   "metadata": {},
   "outputs": [],
   "source": [
    "# initialize parameters alpha and number of iterations (higher alpha enforces smoother flow field)\n",
    "alpha = 0.5\n",
    "num_iter = 128\n",
    "\n",
    "# get optical flow \n",
    "u, v = compute_optical_flow_HS(img_1, img_2, alpha, num_iter)"
   ]
  },
  {
   "cell_type": "code",
   "execution_count": null,
   "metadata": {},
   "outputs": [],
   "source": [
    "# draw color encoded optical flow\n",
    "img_OF_color = get_OF_color_encoded(u, v)\n",
    "cv.imwrite('../out_imgs/optical_flow_horn_schunk.jpg', img_OF_color)\n",
    "\n",
    "# display optical flow \n",
    "cv.imshow('Optical Flow color encoded', img_OF_color)\n",
    "cv.waitKey(0)\n",
    "cv.destroyAllWindows()"
   ]
  },
  {
   "cell_type": "code",
   "execution_count": null,
   "metadata": {},
   "outputs": [],
   "source": []
  }
 ]
}